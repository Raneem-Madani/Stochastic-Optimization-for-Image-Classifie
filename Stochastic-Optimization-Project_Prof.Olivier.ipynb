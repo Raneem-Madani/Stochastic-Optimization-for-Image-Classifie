{
 "cells": [
  {
   "cell_type": "markdown",
   "id": "emKx5nBjLAGR",
   "metadata": {
    "id": "emKx5nBjLAGR"
   },
   "source": [
    "# Stochastic Optimization - Implementation project\n",
    "\n",
    "Supervised by: Prof. Olivier FERCOQ"
   ]
  },
  {
   "cell_type": "markdown",
   "id": "ef13540c",
   "metadata": {},
   "source": [
    "---"
   ]
  },
  {
   "cell_type": "markdown",
   "id": "hwI7fyevLIGw",
   "metadata": {
    "id": "hwI7fyevLIGw"
   },
   "source": [
    "In this project, we are implementing an Image Classifier where the goal is to classify digits between 0 and 9 using two algorithms which we have learned during the class, the first algorithm is stochastic gradient descent and the second one is Adam , it is important to emphasize on the main difference between these two algorithms: that the SGD has a deterministic step size but Adam has an adaptive step sizes."
   ]
  },
  {
   "cell_type": "markdown",
   "id": "rYM3Sw38LKAX",
   "metadata": {
    "id": "rYM3Sw38LKAX"
   },
   "source": [
    "### Basic Remarks\n",
    "* we used the **MNIST** database available on their website http://yann.lecun.com/exdb/mnist/\n",
    "\n",
    "        The MNIST database of handwritten numbers, contains a training set of 60,000 examples and a test set of 10,000 examples.\n",
    "        (we split the 60000 to 10% for validation and the rest for training data)\n",
    "\n",
    "* we have imported the data from keras.datasets as it is availablwe there\n",
    "* We are dealing with **Supervised Learning**, we have the pictures as well as their labels.\n",
    "* we used the **Multinomial logisitic regression with squared 2-norm regularization** model, where the objective function is the convex function:- \n",
    "$$F_\\alpha (w) = \\frac{1}{n_{train}} \\sum_{i = 1}^{n_{train}} \\log~(\\sum_{j = 0}^{9} \\exp~(\\sum_{k = 1}^{d} x_{i,k}w_{k,j}))-\\sum_{j = 0}^{9} y_{i,j}(\\sum_{k = 1}^{d} x_{i,k}w_{k,j} ) + \\frac{\\alpha}{2} \\|w\\|^2_2$$\n",
    "Where, \n",
    "1. $x_i$ is an image in the training dataset.\n",
    "1. $n$ is the number of images in the training dataset.\n",
    "2. $d$ is the number of pixels in the image $x_i$.\n",
    "3. $y_{i,j} = \\begin{cases} 1 & \\text{if the image} ~i~ \\text{represents digit}~ j \\\\ 0 & \\text{otherwise}\\end{cases}$\n",
    "4. $\\alpha \\in \\mathbb{R}^+$\n",
    "5. The last term is a regularizer (differentiable) and to overcome overfitting as we will tune it using validation set."
   ]
  },
  {
   "cell_type": "markdown",
   "id": "AG0ksSAALNQp",
   "metadata": {
    "id": "AG0ksSAALNQp"
   },
   "source": [
    "### why we use \"Stochastic Algorithms\"?\n",
    "\n",
    "Since our objective function that we want to minimize can be written as a finite sum\n",
    "$$F(w) = \\frac{1}{n} \\sum_{i = 1}^{n} F_i(w)$$ \n",
    "Where, $~\\forall i \\in \\{1,\\dots \\dots, n\\}$\n",
    "$$F_i(w) = \\log~(\\sum_{j = 0}^{9} \\exp~(\\sum_{k = 1}^{d} x_{i,k}w_{k,j} )) - \\sum_{j = 0}^{9} y_{i,j}(\\sum_{k = 1}^{d} x_{i,k}w_{k,j}) + \\frac{\\alpha}{2} \\|w\\|^2_2$$\n",
    "\n",
    "Then, from what we learnt that in all the stochastic algorithms (SGD, SVRG, Adagrad and ADAM) that at each iteration we just need the gradient of $F_i$ respect to $w$ for some **random** $i$ instead of the gradient of $F$ for all i.\n",
    "I mean computing the gradient costs high , so the advantage of stochastic algorithms is reducing the cost by taking a smaller number of data that we need to implement the algorithm and converge to the optimal solution."
   ]
  },
  {
   "cell_type": "markdown",
   "id": "I4VMyb6DaUh5",
   "metadata": {
    "id": "I4VMyb6DaUh5"
   },
   "source": [
    "# Importing the Libraries:"
   ]
  },
  {
   "cell_type": "code",
   "execution_count": 1,
   "id": "149938de",
   "metadata": {
    "id": "149938de"
   },
   "outputs": [],
   "source": [
    "import numpy as np                                       #to deal with matricies and arrays \n",
    "import random                                            #to generate random value\n",
    "import matplotlib.pyplot as plt                          #to do the plots \n",
    "import tensorflow as tf                                  #to import the data \n",
    "from tensorflow import keras\n",
    "from sklearn.model_selection import train_test_split     #to split the Data \n",
    "from numpy import array  \n",
    "from numpy.linalg import norm                            #to use the norm\n",
    "from sklearn.preprocessing import OneHotEncoder          #For One hot encoding to Labels\n",
    "import time"
   ]
  },
  {
   "cell_type": "markdown",
   "id": "Ri3R5gco6nNm",
   "metadata": {
    "id": "Ri3R5gco6nNm"
   },
   "source": [
    "#  Import the Dataset "
   ]
  },
  {
   "cell_type": "code",
   "execution_count": 2,
   "id": "zgC0w49xEaYs",
   "metadata": {
    "colab": {
     "base_uri": "https://localhost:8080/"
    },
    "id": "zgC0w49xEaYs",
    "outputId": "0d12e67c-776e-4cb8-fcdc-c36b3624ff1c"
   },
   "outputs": [
    {
     "name": "stdout",
     "output_type": "stream",
     "text": [
      "The number of images to be trained is : 54000\n",
      "The number of images to apply validation on is: 6000\n",
      "The number of images to be tested is: 10000\n"
     ]
    }
   ],
   "source": [
    "# Read the Dataset from MNIST using tenserflow & keras \n",
    "train_data, test_data = tf.keras.datasets.mnist.load_data(path=\"mnist.npz\")\n",
    "\n",
    "#number of testing data = 10,000 \n",
    "# Number of images in the traning dataset (60,000)\n",
    "# Split the Train Dataset to train and validation\n",
    "#number of training data = 0.9 * 60,000 = 54,000 \n",
    "#number of validation data = 0.1 * 60,000 = 6,000         \n",
    "\n",
    "x_train, x_validate, y_train, y_validate = train_test_split(train_data[0], train_data[1] , test_size=0.1)\n",
    "\n",
    "# The dimesnion of any image in the training dataset   (28 x 28)\n",
    "# reshape the the images to be a vector of pixels for each image and normalize\n",
    "\n",
    "x_train = x_train.reshape(-1,784).astype(float) / 255        \n",
    "x_validate = x_validate.reshape(-1,784).astype(float) / 255\n",
    "\n",
    "#to define test set and labels\n",
    "x_test = test_data[0].reshape(-1,784).astype(float) / 255\n",
    "y_test = test_data[1]\n",
    "\n",
    "\n",
    "print('The number of images to be trained is :', x_train.shape[0])\n",
    "print('The number of images to apply validation on is:', x_validate.shape[0])\n",
    "print('The number of images to be tested is:', x_test.shape[0])\n",
    "\n"
   ]
  },
  {
   "cell_type": "markdown",
   "id": "Q3BWPG_kLTX0",
   "metadata": {
    "id": "Q3BWPG_kLTX0"
   },
   "source": [
    "***Example***\n"
   ]
  },
  {
   "cell_type": "code",
   "execution_count": 3,
   "id": "fQqgKnCTLWFw",
   "metadata": {
    "colab": {
     "base_uri": "https://localhost:8080/",
     "height": 301
    },
    "id": "fQqgKnCTLWFw",
    "outputId": "0162b500-e064-43d0-a85f-fe33aa5e8df1"
   },
   "outputs": [
    {
     "name": "stdout",
     "output_type": "stream",
     "text": [
      "The image 70 in train data is: 2\n"
     ]
    },
    {
     "data": {
      "text/plain": [
       "<matplotlib.image.AxesImage at 0x2488006d370>"
      ]
     },
     "execution_count": 3,
     "metadata": {},
     "output_type": "execute_result"
    },
    {
     "data": {
      "image/png": "[encoded data removed]",
      "text/plain": [
       "<Figure size 640x480 with 1 Axes>"
      ]
     },
     "metadata": {},
     "output_type": "display_data"
    }
   ],
   "source": [
    "print('The image 70 in train data is:',y_train[70])\n",
    "plt.imshow(x_train[70].reshape(28,28), cmap='gray')"
   ]
  },
  {
   "cell_type": "markdown",
   "id": "RSEHPM8wFclt",
   "metadata": {
    "id": "RSEHPM8wFclt"
   },
   "source": [
    "# We Define the Loss function that shall be minimized: "
   ]
  },
  {
   "cell_type": "code",
   "execution_count": 4,
   "id": "b3845cef",
   "metadata": {
    "id": "b3845cef"
   },
   "outputs": [],
   "source": [
    "def loss_function(W,x,y,alpha):\n",
    "    value = 0\n",
    "    for i in range(x.shape[0]):\n",
    "        v1 = 0\n",
    "        v2 = 0\n",
    "        for j in range(y.shape[1]):\n",
    "            v1 += np.exp(x[i,:]@W[:,j])\n",
    "            v2 += y[i,j]*(x[i,:]@W[:,j])\n",
    "        value += np.log(v1) - v2\n",
    "    value/= x.shape[0]\n",
    "    value += alpha/2 * norm(W,2)**2\n",
    "\n",
    "    return value"
   ]
  },
  {
   "cell_type": "markdown",
   "id": "WI0Ok3vBVp0o",
   "metadata": {
    "id": "WI0Ok3vBVp0o"
   },
   "source": [
    "# One hot Encoding for Labels "
   ]
  },
  {
   "cell_type": "markdown",
   "id": "820bb12e",
   "metadata": {},
   "source": [
    "To obtain a matrix for each image per label, we have done the one-hot-encoding that returns a vector of zeros and 1 on the true label."
   ]
  },
  {
   "cell_type": "code",
   "execution_count": 5,
   "id": "GrbcO-qeQZXu",
   "metadata": {
    "id": "GrbcO-qeQZXu"
   },
   "outputs": [],
   "source": [
    "#Encoding the x_train labels\n",
    "y_train_encoded = OneHotEncoder()\n",
    "y_train_encoded = y_train_encoded.fit_transform(y_train.reshape(-1,1))\n",
    "\n",
    "#encoding the validation labels \n",
    "y_validate_encoded = OneHotEncoder()\n",
    "y_validate_encoded = y_validate_encoded.fit_transform(y_validate.reshape(-1,1))\n",
    "\n",
    "#encoding the test labels\n",
    "y_test_encoded = OneHotEncoder()\n",
    "y_test_encoded = y_test_encoded.fit_transform(y_test.reshape(-1,1))"
   ]
  },
  {
   "cell_type": "markdown",
   "id": "MhqbJc31Lb6b",
   "metadata": {
    "id": "MhqbJc31Lb6b"
   },
   "source": [
    "### we compute the gradient manually in the beginning  \n",
    "$\\forall i \\in \\{1, \\dots \\dots, n\\}$\n",
    " The gradient of $F_i$ respect to $w_{t,p} ~ \\forall t \\in \\{1, \\dots \\dots, d\\} ~ \\& ~ \\forall p \\in \\{0, \\dots \\dots, 9\\}$  \n",
    "$$\\nabla_{w_{t, p}} F_i = x_{i,t}\\frac{\\exp~(\\sum_{k = 1}^{d} x_{i,k}w_{k,p})}{\\sum_{j = 0}^{9} \\exp~(\\sum_{k = 1}^{d} x_{i,k}w_{k,j})} - y_{i,p}x_{i,t} + \\alpha w_{t, p}$$"
   ]
  },
  {
   "cell_type": "markdown",
   "id": "e8Is-CMxPi75",
   "metadata": {
    "id": "e8Is-CMxPi75"
   },
   "source": [
    "# Define the Gradient:"
   ]
  },
  {
   "cell_type": "markdown",
   "id": "g5FMHHsTLqLL",
   "metadata": {
    "id": "g5FMHHsTLqLL"
   },
   "source": [
    " The gradient of the whole matrix W "
   ]
  },
  {
   "cell_type": "code",
   "execution_count": 6,
   "id": "9JLOKChpDwVw",
   "metadata": {
    "id": "9JLOKChpDwVw"
   },
   "outputs": [],
   "source": [
    "def grad_cost_funct(W,x,y,alpha):            #x is x_train         y is y_train\n",
    "    grad = np.zeros(W.shape)                 #build  a matrix with the same size of W with zeros entries \n",
    "    for k in range(grad.shape[0]):\n",
    "        for j in range(grad.shape[1]):\n",
    "            for i in range(x.shape[0]):\n",
    "                v = 0\n",
    "                for e in range(y.toarray().shape[1]):\n",
    "                    v += np.exp(x[i,:]@W[:,e])          #the sum of x[i,k]*w[k,j] is the inner product between them\n",
    "                    \n",
    "                grad[k,j] += ((x[i,k]*np.exp(x[i,:]@W[:,j]))/v) - y.toarray()[i,j]*x[i,k]\n",
    "            grad[k,j] /= x.shape[0]\n",
    "            grad[k,j] += alpha*W[k,j]\n",
    "    \n",
    "    return grad"
   ]
  },
  {
   "cell_type": "markdown",
   "id": "LQ_bmZHYLt5d",
   "metadata": {
    "id": "LQ_bmZHYLt5d"
   },
   "source": [
    "**The gradient of F at a specific image.**"
   ]
  },
  {
   "cell_type": "markdown",
   "id": "035cb729",
   "metadata": {},
   "source": [
    "We have done two implementations for the gradient the first one (\"commented\") had a very high complexity that caused a high running time but after modification we managed to obtain a one with a very low complexity, so the algorithm will run very fast."
   ]
  },
  {
   "cell_type": "code",
   "execution_count": 14,
   "id": "c9PGv0L_VvHu",
   "metadata": {
    "id": "c9PGv0L_VvHu"
   },
   "outputs": [],
   "source": [
    "#The gradient of F at a specific image.\n",
    "#def grad_cost_funct_i(i,W,x,y,alpha):\n",
    "#    grad = np.zeros(W.shape)\n",
    "#    for k in range(grad.shape[0]):\n",
    "#        for j in range(grad.shape[1]):\n",
    "#            v = 0\n",
    "#            for e in range(y.toarray().shape[1]):\n",
    "#                v += np.exp(x[i,:]@W[:,e])  \n",
    "#            grad[k,j] += ((x[i,k]*np.exp(x[i,:]@W[:,j]))/v) - y.toarray()[i,j]*x[i,k]\n",
    "#            grad[k,j] /= x.shape[0]\n",
    "#            grad[k,j] += alpha*W[k,j]\n",
    "#    \n",
    "#    return grad\n",
    "\n",
    "def gradient_Denominator(i, W, X,y):      # i stands for the image we will randomly pick, which her accuracy will be computed per iteration\n",
    "    \n",
    "    D = 0                     \n",
    "    E = np.zeros(y.toarray().shape[1])    # The array of the scalar product values for each label for a specific image \n",
    "    for j in range(y.toarray().shape[1]):\n",
    "        E[j] = np.exp(X[i,:]@ W[:,j])     # Computing E_p for each p = 0,....,9\n",
    "        D += E[j]                         # Computing the denominator of the gradient \n",
    "    \n",
    "    return E, D\n",
    "\n",
    "def grad_cost_funct_i(i, W, X,y, alpha):\n",
    "    \n",
    "    G_W = np.zeros((X.shape[1] ,y.toarray().shape[1]))                      # The gradient of F_i w.r.t. w  \n",
    "\n",
    "    E, D = gradient_Denominator(i, W, X,y)                                  # Computing D and E_j \n",
    "    for j in range(y_train_encoded.shape[1]):\n",
    "        G_W[:,j] = X[i,:]*(E[j]/D) - y.toarray()[i,j]*X[i,:] + alpha*W[:,j] # Computing the gradient w.r.t. w    \n",
    "    return (G_W)                                                            # Return the gradient of W for specific i"
   ]
  },
  {
   "cell_type": "markdown",
   "id": "77bc77b3",
   "metadata": {},
   "source": [
    "**Example**"
   ]
  },
  {
   "cell_type": "code",
   "execution_count": 15,
   "id": "jy-5NE8vs_rx",
   "metadata": {
    "colab": {
     "base_uri": "https://localhost:8080/"
    },
    "id": "jy-5NE8vs_rx",
    "outputId": "9b4fc1a7-b47c-498f-8c38-90f4624d6769"
   },
   "outputs": [
    {
     "name": "stdout",
     "output_type": "stream",
     "text": [
      "[[-6.34662974e-01  1.42100981e+00 -1.62002386e+00 ...  4.62048637e-02\n",
      "   7.86085943e-01  2.29210828e-01]\n",
      " [-3.58565671e-01  6.28233480e-01 -1.39907049e+00 ...  1.58563488e-01\n",
      "   4.34487965e-01 -7.76307340e-01]\n",
      " [ 1.42436730e+00  5.88192428e-01  2.88829808e-01 ... -3.57555390e-01\n",
      "  -7.62439720e-01 -2.19944071e+00]\n",
      " ...\n",
      " [ 2.67823176e-04 -7.52667031e-01  1.02095579e+00 ... -4.10435305e-01\n",
      "   1.32730783e-01 -6.39023393e-01]\n",
      " [ 1.67431017e+00 -5.96313586e-01  6.97118749e-02 ... -1.97751631e+00\n",
      "   7.13123810e-02 -4.17100965e-01]\n",
      " [ 1.14015801e+00 -6.83517478e-01 -1.54980774e+00 ... -1.40797988e+00\n",
      "   7.48664234e-01 -1.63159529e+00]]\n"
     ]
    }
   ],
   "source": [
    "W0 = np.random.normal(0, 1, size=(784,10))\n",
    "b = grad_cost_funct_i(90,W0,x_train,y_train_encoded,1)\n",
    "print(b)"
   ]
  },
  {
   "cell_type": "markdown",
   "id": "uSlkzN13LxCg",
   "metadata": {
    "id": "uSlkzN13LxCg"
   },
   "source": [
    "### Recall Stochastic Gradient Algorithm \n",
    "***\n",
    "Given a sequence of determenistic step sizes $\\gamma_k$, and $x_0 \\in \\mathbb{R}^d$, the algorithm reads:- \n",
    "$$x_{k+1} = x_k - \\gamma_k \\nabla f(x_k, \\xi_{k+1})$$\n",
    "***\n",
    "**Thus,** in our case:- \n",
    "$$ w_{k+1} = w_{k} - \\gamma_k \\nabla F_i(w_k)$$\n",
    "\n",
    "* Since $F$ is convex, we can benefit of the step size sequences studied during the course, we have two cases:- \n",
    "\\begin{cases}\n",
    "\\gamma_k = \\frac{a}{\\sqrt{K}} & \\text{if the number of iterations is known=K} \\\\\n",
    "\\gamma_k = \\frac{\\gamma_0}{\\sqrt{k + 1}} & \\text{Otherwise} \n",
    "\\end{cases}\n",
    "\n",
    "*we used two stopping criterias : \n",
    "1. the first one was the number of iterations and in this case we put $\\gamma_k = \\frac{a}{\\sqrt{K}}$ \n",
    "2. but when we used the the norm of the difference of sequentially x's as a stopping criteria we put $\\gamma_k = \\frac{\\gamma_0}{\\sqrt{k + 1}} $"
   ]
  },
  {
   "cell_type": "markdown",
   "id": "pv-LDmqEQL6E",
   "metadata": {
    "id": "pv-LDmqEQL6E"
   },
   "source": [
    "# Stochastic Gradient Descent Implemenation"
   ]
  },
  {
   "cell_type": "markdown",
   "id": "DPHQGXhlWSc5",
   "metadata": {
    "id": "DPHQGXhlWSc5"
   },
   "source": [
    " It worth mentioning that a benefit of stochastic gradient descent is that, since it is stochastic, it can avoid getting stuck in a suboptimal region. but first we define the random samplw we will draw "
   ]
  },
  {
   "cell_type": "code",
   "execution_count": 16,
   "id": "y1vwdHzCdQqm",
   "metadata": {
    "id": "y1vwdHzCdQqm"
   },
   "outputs": [],
   "source": [
    "# We define a distribution for I to be uniform\n",
    "def sample():             #we draw a sample\n",
    "    numbers = range(x_train.shape[0])              #dimension of x_train = n_train * pixles ==> x_train.shape[0]=n_train (54000)\n",
    "    distributions = np.ones(len(numbers))* (1/len(numbers))     #probabilities of uniform distribution\n",
    "    random_number = np.random.choice(numbers, 1, True, distributions)  \n",
    "\n",
    "    return random_number[0]"
   ]
  },
  {
   "cell_type": "markdown",
   "id": "c163ba08",
   "metadata": {},
   "source": [
    "We define the SGD algorithm with a known number of iterations"
   ]
  },
  {
   "cell_type": "code",
   "execution_count": 20,
   "id": "8b63le6aaMkV",
   "metadata": {
    "id": "8b63le6aaMkV"
   },
   "outputs": [],
   "source": [
    "def Stochastic_Gradient_descent_with_iterate(W0,n_iter,gamma0,alpha,x,y):\n",
    "    iterations = []\n",
    "    accuracy = []\n",
    "    values = []\n",
    "    W = W0\n",
    "    k=0\n",
    "    start = time.time()\n",
    "    print('Progression {}%'.format(0),end = '\\r',flush = True)\n",
    "    print('starting the SGD Algorithm with {} iterations at alpha = {} ===>'.format(n_iter,alpha))\n",
    "    print('Iteration | Accuracy')\n",
    "    print('--------------------')\n",
    "    while k < n_iter:\n",
    "        k += 1\n",
    "        print('Progression {}%'.format(k*100/n_iter),end = '\\r',flush = True)\n",
    "        i= sample()\n",
    "        W -= (gamma0/np.sqrt(n_iter)) * grad_cost_funct_i(i,W,x,y,alpha)\n",
    "        \n",
    "        #here we want to reveal the accuracy and objective value at specific iterations\n",
    "        if k % 1000 == 0:\n",
    "            iterations.append(k)\n",
    "            values.append(W)\n",
    "            accuracy.append(Accuracy(W))\n",
    "            print('    {}    |     {}'.format(k,Accuracy(W)))\n",
    "            print('--------------------')\n",
    "    end = time.time()\n",
    "    print(\"The time needed:\", end-start)\n",
    "    return W , iterations, accuracy, values"
   ]
  },
  {
   "cell_type": "markdown",
   "id": "0fbdfb2c",
   "metadata": {},
   "source": [
    "We try to define the algorithm with another stopping criteria where the second norm of the difference between two consecutive values for W should be less than a specific tolerence."
   ]
  },
  {
   "cell_type": "code",
   "execution_count": 21,
   "id": "QPGLOouHgovD",
   "metadata": {
    "id": "QPGLOouHgovD"
   },
   "outputs": [],
   "source": [
    "def Stochastic_Gradient_descent_with_norm(W0,epsilon,gamma0,alpha,x,y):\n",
    "    W = W0\n",
    "    values = [np.zeros(W.shape),W]\n",
    "    start = time.time()\n",
    "    k = 0\n",
    "    print('starting the SDG Algorithm with stopping criteria at alpha = {}: ===>'.format(alpha))\n",
    "    while norm(values[-1]-values[-2],2) > epsilon:\n",
    "        k +=1\n",
    "        i= sample()\n",
    "        W -= (gamma0/np.sqrt(k+1)) * grad_cost_funct_i(i,W,x,y,alpha)\n",
    "        values.append(W)\n",
    "    end = time.time()\n",
    "    print(\"The time needed:\", end-start)\n",
    "    print('Number of Iterations Needed to have ||W_k+1 - W_k|| < {}  is: {} with accuracy: {}'.format(epsilon,k,Accuracy(W)))\n",
    "    return W"
   ]
  },
  {
   "cell_type": "markdown",
   "id": "ONUxWT6kd8VD",
   "metadata": {
    "id": "ONUxWT6kd8VD"
   },
   "source": [
    "# The accuracy of the model"
   ]
  },
  {
   "cell_type": "code",
   "execution_count": 22,
   "id": "W_rRf1OQwFmE",
   "metadata": {
    "id": "W_rRf1OQwFmE"
   },
   "outputs": [],
   "source": [
    "def Accuracy(W_alpha):\n",
    "    v=0\n",
    "    for i in range(x_validate.shape[0]):\n",
    "        v += (np.argmax(x_validate[i]@W_alpha)==np.argmax(y_validate_encoded.toarray()[i]))*1   \n",
    "        # *1 to convert boolean to numeric\n",
    "    v /= x_validate.shape[0]\n",
    "    return v"
   ]
  },
  {
   "cell_type": "markdown",
   "id": "ZoQRJQNhuDNA",
   "metadata": {
    "id": "ZoQRJQNhuDNA"
   },
   "source": [
    "**Here we want to make a table that represents the number of iterations and the accuracy at these iterations , Moreover we want to reveal the progression show the progress of the model.**"
   ]
  },
  {
   "cell_type": "markdown",
   "id": "WoB_sh1REQuW",
   "metadata": {
    "id": "WoB_sh1REQuW"
   },
   "source": [
    "# Running tests:"
   ]
  },
  {
   "cell_type": "code",
   "execution_count": 23,
   "id": "VzeZA6y9ibkT",
   "metadata": {
    "colab": {
     "base_uri": "https://localhost:8080/"
    },
    "id": "VzeZA6y9ibkT",
    "outputId": "93a35679-cd11-4ab3-fdae-2404fdf4d527"
   },
   "outputs": [
    {
     "name": "stdout",
     "output_type": "stream",
     "text": [
      "starting the SGD Algorithm with 20000 iterations at alpha = 0.8 ===>\n",
      "Iteration | Accuracy\n",
      "--------------------\n",
      "    1000    |     0.6413333333333333\n",
      "--------------------\n",
      "    2000    |     0.6928333333333333\n",
      "--------------------\n",
      "    3000    |     0.5866666666666667\n",
      "--------------------\n",
      "    4000    |     0.6733333333333333\n",
      "--------------------\n",
      "    5000    |     0.5848333333333333\n",
      "--------------------\n",
      "    6000    |     0.539\n",
      "--------------------\n",
      "    7000    |     0.5928333333333333\n",
      "--------------------\n",
      "    8000    |     0.6256666666666667\n",
      "--------------------\n",
      "    9000    |     0.6881666666666667\n",
      "--------------------\n",
      "    10000    |     0.5673333333333334\n",
      "--------------------\n",
      "    11000    |     0.6603333333333333\n",
      "--------------------\n",
      "    12000    |     0.657\n",
      "--------------------\n",
      "    13000    |     0.703\n",
      "--------------------\n",
      "    14000    |     0.6101666666666666\n",
      "--------------------\n",
      "    15000    |     0.7076666666666667\n",
      "--------------------\n",
      "    16000    |     0.651\n",
      "--------------------\n",
      "    17000    |     0.6741666666666667\n",
      "--------------------\n",
      "    18000    |     0.7161666666666666\n",
      "--------------------\n",
      "    19000    |     0.5645\n",
      "--------------------\n",
      "    20000    |     0.724\n",
      "--------------------\n",
      "The time needed: 447.578738451004\n"
     ]
    }
   ],
   "source": [
    "W0 = np.random.normal(0, 1, size=(784,10))\n",
    "n_iter = 20000           \n",
    "gamma0 = 1\n",
    "alpha = 0.8\n",
    "\n",
    "W,iterations,accuracy, values = Stochastic_Gradient_descent_with_iterate(W0,n_iter,gamma0,alpha,x_train,y_train_encoded)"
   ]
  },
  {
   "cell_type": "code",
   "execution_count": 24,
   "id": "h-CGGRsAhYhu",
   "metadata": {
    "id": "h-CGGRsAhYhu"
   },
   "outputs": [
    {
     "name": "stdout",
     "output_type": "stream",
     "text": [
      "starting the SDG Algorithm with stopping criteria at alpha = 1: ===>\n",
      "The time needed: 0.05704927444458008\n",
      "Number of Iterations Needed to have ||W_k+1 - W_k|| < 0.09  is: 1 with accuracy: 0.10616666666666667\n"
     ]
    }
   ],
   "source": [
    "W0 = np.random.normal(0, 1, size=(784,10))\n",
    "epsilon = 0.09\n",
    "gamma0 = 2\n",
    "alpha = 1\n",
    "\n",
    "W_criteria = Stochastic_Gradient_descent_with_norm(W0,epsilon,gamma0,alpha,x_train,y_train_encoded)"
   ]
  },
  {
   "cell_type": "markdown",
   "id": "q2M3eps6F09D",
   "metadata": {
    "id": "q2M3eps6F09D"
   },
   "source": [
    "# With the Best Alpha:"
   ]
  },
  {
   "cell_type": "code",
   "execution_count": 26,
   "id": "AZzGGe6BF4J1",
   "metadata": {
    "id": "AZzGGe6BF4J1"
   },
   "outputs": [
    {
     "name": "stdout",
     "output_type": "stream",
     "text": [
      "starting the SDG Algorithm with 20000 iterations at alpha = 10 ==================>\n",
      "Iteration | Accuracy\n",
      "--------------------\n",
      "    20000    |     0.16933333333333334\n",
      "--------------------\n",
      "The time needed: 387.0958149433136\n",
      "starting the SDG Algorithm with 20000 iterations at alpha = 5.0 ==================>\n",
      "Iteration | Accuracy\n",
      "--------------------\n",
      "    20000    |     0.289\n",
      "--------------------\n",
      "The time needed: 313.38022351264954\n",
      "starting the SDG Algorithm with 20000 iterations at alpha = 2.5 ==================>\n",
      "Iteration | Accuracy\n",
      "--------------------\n",
      "    20000    |     0.44266666666666665\n",
      "--------------------\n",
      "The time needed: 255.32383394241333\n",
      "starting the SDG Algorithm with 20000 iterations at alpha = 1.25 ==================>\n",
      "Iteration | Accuracy\n",
      "--------------------\n",
      "    20000    |     0.5061666666666667\n",
      "--------------------\n",
      "The time needed: 260.4297311306\n",
      "starting the SDG Algorithm with 20000 iterations at alpha = 0.625 ==================>\n",
      "Iteration | Accuracy\n",
      "--------------------\n",
      "    20000    |     0.5855\n",
      "--------------------\n",
      "The time needed: 260.3032376766205\n",
      "starting the SDG Algorithm with 20000 iterations at alpha = 0.3125 ==================>\n",
      "Iteration | Accuracy\n",
      "--------------------\n",
      "    20000    |     0.7393333333333333\n",
      "--------------------\n",
      "The time needed: 269.96484303474426\n",
      "starting the SDG Algorithm with 20000 iterations at alpha = 0.15625 ==================>\n",
      "Iteration | Accuracy\n",
      "--------------------\n",
      "    20000    |     0.8231666666666667\n",
      "--------------------\n",
      "The time needed: 257.754643201828\n",
      "starting the SDG Algorithm with 20000 iterations at alpha = 0.078125 ==================>\n",
      "Iteration | Accuracy\n",
      "--------------------\n",
      "    20000    |     0.8303333333333334\n",
      "--------------------\n",
      "The time needed: 259.40134859085083\n",
      "starting the SDG Algorithm with 20000 iterations at alpha = 0.0390625 ==================>\n",
      "Iteration | Accuracy\n",
      "--------------------\n",
      "    20000    |     0.8673333333333333\n",
      "--------------------\n",
      "The time needed: 258.53394532203674\n",
      "starting the SDG Algorithm with 20000 iterations at alpha = 0.01953125 ==================>\n",
      "Iteration | Accuracy\n",
      "--------------------\n",
      "    20000    |     0.8718333333333333\n",
      "--------------------\n",
      "The time needed: 259.9453797340393\n",
      "starting the SDG Algorithm with 20000 iterations at alpha = 0.009765625 ==================>\n",
      "Iteration | Accuracy\n",
      "--------------------\n",
      "    20000    |     0.8856666666666667\n",
      "--------------------\n",
      "The time needed: 257.2756221294403\n"
     ]
    }
   ],
   "source": [
    "# we define SGD with no accuracy and values to be faster. (we now focus on the last accuracy)\n",
    "def Stochastic_Gradient_descent_withiterate_tune_alpha(W0,n_iter,gamma0,alpha,x,y):\n",
    "    W = W0\n",
    "    k=0\n",
    "    start = time.time()\n",
    "    print('Progression {}%'.format(0),end = '\\r',flush = True)\n",
    "    print('starting the SDG Algorithm with {} iterations at alpha = {} ==================>'.format(n_iter,alpha))\n",
    "    print('Iteration | Accuracy')\n",
    "    print('--------------------')\n",
    "    while k < n_iter:\n",
    "        k += 1\n",
    "        print('Progression {}%'.format(k*100/n_iter),end = '\\r',flush = True)\n",
    "        i= sample()\n",
    "        W -= (gamma0/np.sqrt(n_iter)) * grad_cost_funct_i(i,W,x,y,alpha)\n",
    "    \n",
    "    print('    {}    |     {}'.format(k,Accuracy(W)))\n",
    "    print('--------------------')\n",
    "    end = time.time()\n",
    "    print(\"The time needed:\", end-start)\n",
    "    return W \n",
    "\n",
    "# creaste a list of 11 elements to define values for Alpha starting from 10 and divide by two\n",
    "Alpha = [10]\n",
    "for i in range(10):\n",
    "    Alpha.append(Alpha[i]/2)\n",
    "\n",
    "#Define the parameters to pass in\n",
    "W0 = np.random.normal(0, 1, size=(784,10))\n",
    "n_iter = 20000\n",
    "gamma0 = 1\n",
    "\n",
    "#create an array containing W values of each alpha & array for accuracy.\n",
    "Parameter = []\n",
    "Accuracy_with_alpha = []\n",
    "for i in Alpha:\n",
    "    W = Stochastic_Gradient_descent_withiterate_tune_alpha(W0,n_iter,gamma0,i,x_train,y_train_encoded)\n",
    "    Parameter.append(W)\n",
    "    Accuracy_with_alpha.append(Accuracy(W))"
   ]
  },
  {
   "cell_type": "markdown",
   "id": "gII_9vGiL8Hn",
   "metadata": {
    "id": "gII_9vGiL8Hn"
   },
   "source": [
    "# Now ADAM"
   ]
  },
  {
   "cell_type": "markdown",
   "id": "ao-RS8-NMACo",
   "metadata": {
    "id": "ao-RS8-NMACo"
   },
   "source": [
    "\n",
    "# The algorithm : \n",
    "$\\alpha_k = \\dfrac{\\alpha_0}{\\sqrt{k+1}}$ \n",
    "\n",
    "$m_{k+1} = \\beta_1 m_k + (1-\\beta_1) \\nabla f(x_k,\\xi_{k+1}) $\n",
    "\n",
    "$\\hat{m}_{k+1} = \\dfrac{m_{k+1}}{1-\\beta{_1}^{k+1}}$\n",
    "\n",
    "$v_{k+1} = \\beta_2 v_k + (1-\\beta_2) \\nabla f(x_k,\\xi_{k+1})^2 $\n",
    "\n",
    "$\\hat{v}_{k+1} = \\max (\\hat{v}_k , \\dfrac{v_{k+1}}{1-\\beta{_2}^{k+1}} )$\n",
    "\n",
    "$x_{k+1} = x_k - \\dfrac{\\alpha_k}{\\epsilon + \\sqrt{ \\hat{v}_{k+1}}}\\hat{m}_{k+1}$"
   ]
  },
  {
   "cell_type": "markdown",
   "id": "d0pJZIlrL6VT",
   "metadata": {
    "id": "d0pJZIlrL6VT"
   },
   "source": [
    "As we learnt in  the class Adam optimization algorithm is an extension to stochastic gradient descent that has recently seen broader adoption for deep learning applications in computer vision and natural language processing.\n",
    "\n",
    "The main ingredients of this algorithm are : \n",
    "\n",
    "*     adaptive estimation of the first and second moments of the SGD.\n",
    "*     coordinate-wise step-sizes.\n",
    "\n",
    "\n",
    "\n",
    "**The idea is to design an exponential moving average of previous gradients and square gradients as an estimation of it's moments (The first and the second).**\n",
    "\n",
    "#### The parameters of Adam algorithm are :\n",
    "\n",
    "*  $\\alpha >0 $ \n",
    "*  $\\beta_1 \\in [0,1] $\n",
    "*  $\\beta_2 \\in [0,1]$ **with** $\\beta_1 ^2 < \\beta_2 < 1$\n",
    "*  $\\epsilon >0 $ \n"
   ]
  },
  {
   "cell_type": "code",
   "execution_count": 27,
   "id": "UD6SYMIBA_pO",
   "metadata": {
    "id": "UD6SYMIBA_pO"
   },
   "outputs": [],
   "source": [
    "def adam(W0, n_iter, step0, beta1, beta2, epsilon, alpha, x, y): #Alpha is the step\n",
    "    values = []\n",
    "    iterations = []\n",
    "    accuracy = []\n",
    "    W = W0\n",
    "    n_features = (784,10)\n",
    "    #initialize m_0 = 0\n",
    "    accumulated_gradient = np.zeros(n_features)    #m_k\n",
    "    \n",
    "    #initialize v_0 = 0\n",
    "    accumulated_square_gradient = np.zeros(n_features)       #v_k\n",
    "    start = time.time()\n",
    "    print('Progression {}%'.format(0),end = '\\r',flush = True)\n",
    "    print('starting the ADAM Algorithm with {} iterations at alpha = {} ==================>'.format(n_iter,alpha))\n",
    "    print('Iteration | Accuracy')\n",
    "    print('--------------------')\n",
    "    for k in range(1,n_iter + 1):\n",
    "        print('Progression {}%'.format(k*100/n_iter),end = '\\r',flush = True)\n",
    "        i = sample()\n",
    "        step = step0/np.sqrt(k+1)                                                 # αk = α0/√(k+1) \n",
    "        gradient = grad_cost_funct_i(i,W,x,y,alpha)                               \n",
    "        accumulated_gradient = beta1*accumulated_gradient + (1-beta1)*gradient    #m_k+1\n",
    "        accumulated_gradient_correction = accumulated_gradient/(1 - beta1**(k+1))     #m^hat_k+1\n",
    "        accumulated_square_gradient = beta2*accumulated_square_gradient + (1-beta2) *(gradient)**2  #v_k+1\n",
    "        \n",
    "        # Here there is no need to define v^hat_k+1 = max(v^hat_k,(v_k+1 / 1-beta_2^{k+1}))\n",
    "        #because we proved in the class that the maximum between them is equal to (v_k+1 / 1-beta_2^{k+1}), so i put it directly.\n",
    "        accumulated_square_gradient_correction = accumulated_square_gradient/(1 - beta2**(k+1))      #v^hat_k+1 \n",
    "        \n",
    "        W -=  (step /(np.sqrt(accumulated_square_gradient_correction) + epsilon))*accumulated_gradient_correction\n",
    "        if k % 1000 == 0:\n",
    "            values.append(W)\n",
    "            iterations.append(k)\n",
    "            accuracy.append(Accuracy(W))\n",
    "            print('    {}    |     {}'.format(k,Accuracy(W)))\n",
    "            print('--------------------')\n",
    "    end = time.time()\n",
    "    print(\"The time needed:\", end-start)\n",
    "    return W , iterations, accuracy, values"
   ]
  },
  {
   "cell_type": "markdown",
   "id": "d85ed4cc",
   "metadata": {},
   "source": [
    "# Running Test:"
   ]
  },
  {
   "cell_type": "code",
   "execution_count": 28,
   "id": "ndJ2kQ3EIf9T",
   "metadata": {
    "colab": {
     "base_uri": "https://localhost:8080/"
    },
    "id": "ndJ2kQ3EIf9T",
    "outputId": "6b08629d-72ca-49ad-b65f-ae80ab3d30c9"
   },
   "outputs": [
    {
     "name": "stdout",
     "output_type": "stream",
     "text": [
      "starting the ADAM Algorithm with 20000 iterations at alpha = 0.8 ==================>\n",
      "Iteration | Accuracy\n",
      "--------------------\n",
      "    1000    |     0.19166666666666668\n",
      "--------------------\n",
      "    2000    |     0.21166666666666667\n",
      "--------------------\n",
      "    3000    |     0.21366666666666667\n",
      "--------------------\n",
      "    4000    |     0.3333333333333333\n",
      "--------------------\n",
      "    5000    |     0.455\n",
      "--------------------\n",
      "    6000    |     0.45\n",
      "--------------------\n",
      "    7000    |     0.405\n",
      "--------------------\n",
      "    8000    |     0.3155\n",
      "--------------------\n",
      "    9000    |     0.2715\n",
      "--------------------\n",
      "    10000    |     0.4583333333333333\n",
      "--------------------\n",
      "    11000    |     0.4493333333333333\n",
      "--------------------\n",
      "    12000    |     0.36283333333333334\n",
      "--------------------\n",
      "    13000    |     0.4221666666666667\n",
      "--------------------\n",
      "    14000    |     0.36033333333333334\n",
      "--------------------\n",
      "    15000    |     0.486\n",
      "--------------------\n",
      "    16000    |     0.41683333333333333\n",
      "--------------------\n",
      "    17000    |     0.383\n",
      "--------------------\n",
      "    18000    |     0.3435\n",
      "--------------------\n",
      "    19000    |     0.4595\n",
      "--------------------\n",
      "    20000    |     0.5843333333333334\n",
      "--------------------\n",
      "The time needed: 268.1217861175537\n"
     ]
    }
   ],
   "source": [
    "W0 = np.random.normal(0, 1, size=(784,10))\n",
    "n_iter = 20000   # Number of iterations for the algorithm \n",
    "alpha = 0.8\n",
    "epsilon = 0.2\n",
    "beta1 = 0.4\n",
    "beta2 = 0.7\n",
    "step0 = 1\n",
    "\n",
    "W_adam, iterations_adam , accuracy_adam, values_adam=adam(W0, n_iter, step0, beta1, beta2, epsilon, alpha, x_train, y_train_encoded)"
   ]
  },
  {
   "cell_type": "markdown",
   "id": "a972031a",
   "metadata": {},
   "source": [
    "# With the Best Alpha:"
   ]
  },
  {
   "cell_type": "code",
   "execution_count": 31,
   "id": "lU8JoToxIjys",
   "metadata": {
    "colab": {
     "base_uri": "https://localhost:8080/"
    },
    "id": "lU8JoToxIjys",
    "outputId": "647beb00-1290-48da-e91c-99783c2d2fc3"
   },
   "outputs": [
    {
     "name": "stdout",
     "output_type": "stream",
     "text": [
      "starting the ADAM Algorithm with 20000 iterations at alpha = 10 ==================>\n",
      "Iteration | Accuracy\n",
      "--------------------\n",
      "    20000    |     0.1395\n",
      "--------------------\n",
      "The time needed: 260.9350621700287\n",
      "starting the ADAM Algorithm with 20000 iterations at alpha = 5.0 ==================>\n",
      "Iteration | Accuracy\n",
      "--------------------\n",
      "    20000    |     0.20266666666666666\n",
      "--------------------\n",
      "The time needed: 258.28728199005127\n",
      "starting the ADAM Algorithm with 20000 iterations at alpha = 2.5 ==================>\n",
      "Iteration | Accuracy\n",
      "--------------------\n",
      "    20000    |     0.229\n",
      "--------------------\n",
      "The time needed: 256.6960999965668\n",
      "starting the ADAM Algorithm with 20000 iterations at alpha = 1.25 ==================>\n",
      "Iteration | Accuracy\n",
      "--------------------\n",
      "    20000    |     0.24316666666666667\n",
      "--------------------\n",
      "The time needed: 258.23921632766724\n",
      "starting the ADAM Algorithm with 20000 iterations at alpha = 0.625 ==================>\n",
      "Iteration | Accuracy\n",
      "--------------------\n",
      "    20000    |     0.2956666666666667\n",
      "--------------------\n",
      "The time needed: 257.6455295085907\n",
      "starting the ADAM Algorithm with 20000 iterations at alpha = 0.3125 ==================>\n",
      "Iteration | Accuracy\n",
      "--------------------\n",
      "    20000    |     0.6435\n",
      "--------------------\n",
      "The time needed: 258.9826669692993\n",
      "starting the ADAM Algorithm with 20000 iterations at alpha = 0.15625 ==================>\n",
      "Iteration | Accuracy\n",
      "--------------------\n",
      "    20000    |     0.7218333333333333\n",
      "--------------------\n",
      "The time needed: 260.1270544528961\n",
      "starting the ADAM Algorithm with 20000 iterations at alpha = 0.078125 ==================>\n",
      "Iteration | Accuracy\n",
      "--------------------\n",
      "    20000    |     0.7883333333333333\n",
      "--------------------\n",
      "The time needed: 259.6141655445099\n",
      "starting the ADAM Algorithm with 20000 iterations at alpha = 0.0390625 ==================>\n",
      "Iteration | Accuracy\n",
      "--------------------\n",
      "    20000    |     0.8383333333333334\n",
      "--------------------\n",
      "The time needed: 261.05273485183716\n",
      "starting the ADAM Algorithm with 20000 iterations at alpha = 0.01953125 ==================>\n",
      "Iteration | Accuracy\n",
      "--------------------\n",
      "    20000    |     0.7926666666666666\n",
      "--------------------\n",
      "The time needed: 261.69258546829224\n",
      "starting the ADAM Algorithm with 20000 iterations at alpha = 0.009765625 ==================>\n",
      "Iteration | Accuracy\n",
      "--------------------\n",
      "    20000    |     0.8633333333333333\n",
      "--------------------\n",
      "The time needed: 261.0900366306305\n"
     ]
    }
   ],
   "source": [
    "def ADAM_tune_alpha(W0,n_iter,step0, beta1, beta2, epsilon,alpha,x,y):\n",
    "    n_features = (784,10)\n",
    "    W =W0\n",
    "    accumulated_gradient = np.zeros(n_features)    #m_k\n",
    "    accumulated_square_gradient = np.zeros(n_features)       #v_k\n",
    "    start = time.time()\n",
    "    print('Progression {}%'.format(0),end = '\\r',flush = True)\n",
    "    print('starting the ADAM Algorithm with {} iterations at alpha = {} ==================>'.format(n_iter,alpha))\n",
    "    print('Iteration | Accuracy')\n",
    "    print('--------------------')\n",
    "    for k in range(1,n_iter + 1):\n",
    "        print('Progression {}%'.format(k*100/n_iter),end = '\\r',flush = True)\n",
    "        i = sample()\n",
    "        step = step0/np.sqrt(k+1)\n",
    "        gradient = grad_cost_funct_i(i,W,x,y,alpha)\n",
    "        accumulated_gradient = beta1*accumulated_gradient + (1-beta1)*gradient    #m_k+1\n",
    "        accumulated_gradient_correction = accumulated_gradient/(1 - beta1**(k+1))     #m^hat_k+1\n",
    "        accumulated_square_gradient = beta2*accumulated_square_gradient + (1-beta2) *(gradient)**2  #v_k+1\n",
    "        accumulated_square_gradient_correction = accumulated_square_gradient/(1 - beta2**(k+1))      #v^hat_k+1\n",
    "        W -=  (step /(np.sqrt(accumulated_square_gradient_correction) + epsilon))*accumulated_gradient_correction\n",
    "    print('    {}    |     {}'.format(k,Accuracy(W)))\n",
    "    print('--------------------')\n",
    "    end = time.time()\n",
    "    print(\"The time needed:\", end-start)\n",
    "    return W\n",
    "\n",
    "Alpha = [10]\n",
    "for i in range(10):\n",
    "    Alpha.append(Alpha[i]/2)\n",
    "\n",
    "W0 = np.random.normal(0, 1, size=(784,10))\n",
    "n_iter = 20000\n",
    "epsilon = 0.2\n",
    "beta1 = 0.4\n",
    "beta2 = 0.7\n",
    "step0 = 1\n",
    "\n",
    "Parameter_adam = []\n",
    "Accuracy_with_alpha_adam = []\n",
    "for i in Alpha:\n",
    "    W = ADAM_tune_alpha(W0,n_iter,step0, beta1, beta2, epsilon,i,x_train,y_train_encoded)\n",
    "    Parameter_adam.append(W)\n",
    "    Accuracy_with_alpha_adam.append(Accuracy(W))"
   ]
  },
  {
   "cell_type": "markdown",
   "id": "0a3f76f9",
   "metadata": {},
   "source": [
    "# Now we present some nice plots"
   ]
  },
  {
   "cell_type": "code",
   "execution_count": 37,
   "id": "ed92bedc",
   "metadata": {},
   "outputs": [
    {
     "data": {
      "image/png": "[encoded data removed]",
      "text/plain": [
       "<Figure size 640x480 with 1 Axes>"
      ]
     },
     "metadata": {},
     "output_type": "display_data"
    }
   ],
   "source": [
    "plt.plot(iterations, accuracy, label = 'SGD')\n",
    "plt.plot(iterations, accuracy_adam , label = 'Adam')\n",
    "plt.xlabel('Iterations')\n",
    "plt.ylabel('Accuracy')\n",
    "plt.title('The accuracy for every 1000 iteration at alpha = 0.8')\n",
    "plt.legend()\n",
    "plt.show()"
   ]
  },
  {
   "cell_type": "code",
   "execution_count": 39,
   "id": "d3af412e",
   "metadata": {},
   "outputs": [
    {
     "data": {
      "image/png": "[encoded data removed]",
      "text/plain": [
       "<Figure size 640x480 with 1 Axes>"
      ]
     },
     "metadata": {},
     "output_type": "display_data"
    }
   ],
   "source": [
    "plt.plot(Alpha, Accuracy_with_alpha, label = 'SGD')\n",
    "plt.plot(Alpha, Accuracy_with_alpha_adam , label = 'Adam')\n",
    "plt.xlabel('the value of alpha')\n",
    "plt.ylabel('Accuracy')\n",
    "plt.title('Different values of accuracy obtained from tuning alpha')\n",
    "plt.legend()\n",
    "plt.show()"
   ]
  },
  {
   "cell_type": "markdown",
   "id": "402582b3",
   "metadata": {},
   "source": [
    "# Finally the accuracy at test data:"
   ]
  },
  {
   "cell_type": "code",
   "execution_count": 41,
   "id": "9613d550",
   "metadata": {},
   "outputs": [
    {
     "name": "stdout",
     "output_type": "stream",
     "text": [
      "The accuracy on test data using SGD with W obtained from alpha = 0.009765625 is 0.8983\n",
      "The accuracy on test data using ADAM with W obtained from alpha = 0.009765625 is 0.8733\n"
     ]
    }
   ],
   "source": [
    "def Accuracy_test(W_alpha):\n",
    "    v=0\n",
    "    for i in range(x_test.shape[0]):\n",
    "        v += (np.argmax(x_test[i]@W_alpha)==np.argmax(y_test_encoded.toarray()[i]))*1   \n",
    "        # *1 to convert boolean to numeric\n",
    "    v /= x_test.shape[0]\n",
    "    return v\n",
    "SGD_accuracy_on_test = Accuracy_test(Parameter[np.argmax(Accuracy_with_alpha)])\n",
    "ADAM_accuracy_on_test = Accuracy_test(Parameter_adam[np.argmax(Accuracy_with_alpha_adam)])\n",
    "print('The accuracy on test data using SGD with W obtained from alpha = {} is {}'.format(Alpha[np.argmax(Accuracy_with_alpha)],SGD_accuracy_on_test))\n",
    "print('The accuracy on test data using ADAM with W obtained from alpha = {} is {}'.format(Alpha[np.argmax(Accuracy_with_alpha_adam)],ADAM_accuracy_on_test))"
   ]
  },
  {
   "cell_type": "markdown",
   "id": "wlBDz5jNFeLq",
   "metadata": {
    "id": "wlBDz5jNFeLq"
   },
   "source": [
    "# Example using the trained model:"
   ]
  },
  {
   "cell_type": "markdown",
   "id": "b91a1a13",
   "metadata": {},
   "source": [
    "A test using W obtained from SGD:"
   ]
  },
  {
   "cell_type": "code",
   "execution_count": 66,
   "id": "L57aqrFBhkPS",
   "metadata": {
    "id": "L57aqrFBhkPS"
   },
   "outputs": [
    {
     "name": "stdout",
     "output_type": "stream",
     "text": [
      "\n",
      "True number :  1\n",
      "\n",
      "Predicted number :  1\n",
      "\n"
     ]
    },
    {
     "data": {
      "text/plain": [
       "<matplotlib.image.AxesImage at 0x2488d3ed2e0>"
      ]
     },
     "execution_count": 66,
     "metadata": {},
     "output_type": "execute_result"
    },
    {
     "data": {
      "image/png": "[encoded data removed]",
      "text/plain": [
       "<Figure size 640x480 with 1 Axes>"
      ]
     },
     "metadata": {},
     "output_type": "display_data"
    }
   ],
   "source": [
    "i=57\n",
    "y_predict=x_test[i]@Parameter[np.argmax(Accuracy_with_alpha)]\n",
    "print(\"\\nTrue number : \",y_test[i])\n",
    "print(\"\\nPredicted number : \",np.argmax(y_predict))\n",
    "print()\n",
    "plt.imshow(x_test[i].reshape(28,28), cmap='gray')"
   ]
  },
  {
   "cell_type": "markdown",
   "id": "aad6a7e1",
   "metadata": {},
   "source": [
    "A Test using W obtained from ADAM"
   ]
  },
  {
   "cell_type": "code",
   "execution_count": 71,
   "id": "f6715cdc",
   "metadata": {},
   "outputs": [
    {
     "name": "stdout",
     "output_type": "stream",
     "text": [
      "\n",
      "True number :  9\n",
      "\n",
      "Predicted number :  9\n",
      "\n"
     ]
    },
    {
     "data": {
      "text/plain": [
       "<matplotlib.image.AxesImage at 0x2488e5e0fd0>"
      ]
     },
     "execution_count": 71,
     "metadata": {},
     "output_type": "execute_result"
    },
    {
     "data": {
      "image/png": "[encoded data removed]",
      "text/plain": [
       "<Figure size 640x480 with 1 Axes>"
      ]
     },
     "metadata": {},
     "output_type": "display_data"
    }
   ],
   "source": [
    "i=105\n",
    "y_predict=x_test[i]@Parameter[np.argmax(Accuracy_with_alpha_adam)]\n",
    "print(\"\\nTrue number : \",y_test[i])\n",
    "print(\"\\nPredicted number : \",np.argmax(y_predict))\n",
    "print()\n",
    "plt.imshow(x_test[i].reshape(28,28), cmap='gray')"
   ]
  }
 ],
 "metadata": {
  "colab": {
   "collapsed_sections": [
    "RSEHPM8wFclt"
   ],
   "provenance": []
  },
  "kernelspec": {
   "display_name": "Python 3 (ipykernel)",
   "language": "python",
   "name": "python3"
  },
  "language_info": {
   "codemirror_mode": {
    "name": "ipython",
    "version": 3
   },
   "file_extension": ".py",
   "mimetype": "text/x-python",
   "name": "python",
   "nbconvert_exporter": "python",
   "pygments_lexer": "ipython3",
   "version": "3.9.16"
  }
 },
 "nbformat": 4,
 "nbformat_minor": 5
}
